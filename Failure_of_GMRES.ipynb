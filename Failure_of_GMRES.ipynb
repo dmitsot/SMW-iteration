{
 "cells": [
  {
   "cell_type": "markdown",
   "id": "5b1ce030",
   "metadata": {},
   "source": [
    "# An example of failure of GMRES method and convergence of the SMW iteration\n",
    "\n",
    "### 18 July 2023\n",
    "### Dimitrios Mitsotakis"
   ]
  },
  {
   "cell_type": "code",
   "execution_count": 1,
   "id": "0f71bd43",
   "metadata": {},
   "outputs": [],
   "source": [
    "import numpy as np\n",
    "import scipy as sp\n",
    "import scipy.sparse as sps\n",
    "import scipy.sparse.linalg as spsl\n",
    "import numpy.linalg as npl\n",
    "import scipy.linalg as spl\n",
    "from numpy.fft import fft, ifft"
   ]
  },
  {
   "cell_type": "markdown",
   "id": "0c515f66",
   "metadata": {},
   "source": [
    "A trivial implementation of the SMW iteration:"
   ]
  },
  {
   "cell_type": "code",
   "execution_count": 2,
   "id": "5486d72c",
   "metadata": {},
   "outputs": [],
   "source": [
    "def SMW_iteration(M, N, b, x, tol = 1.e-5, maxit = 100):\n",
    "    # M, N : matrices such as A = M - N\n",
    "    # M : is the first column of the circulant matrix M\n",
    "    # N : is the sparse matrix N\n",
    "    # x : guess of the solution\n",
    "    \n",
    "    err = 1.0\n",
    "    iters = 0\n",
    "    \n",
    "    while (err > tol and iters < maxit):\n",
    "        iters += 1\n",
    "        c = N@x+b\n",
    "        xnew = spl.solve_circulant(M,c)\n",
    "        err = npl.norm(xnew-x)\n",
    "        x = np.copy(xnew)\n",
    "        \n",
    "    print('iterations required for convergence:', iters)\n",
    "    \n",
    "    return x"
   ]
  },
  {
   "cell_type": "markdown",
   "id": "e65c2de9",
   "metadata": {},
   "source": [
    "This is the setup of a dense system. Try the last two commands only if you take `n` reasonably small."
   ]
  },
  {
   "cell_type": "code",
   "execution_count": 3,
   "id": "db2a3fc8",
   "metadata": {},
   "outputs": [],
   "source": [
    "from numpy.random import rand\n",
    "\n",
    "n = 1000000\n",
    "\n",
    "M = 1.0+rand(n)\n",
    "xexact = np.ones((n,1))\n",
    "N = sps.lil_matrix((n, n))\n",
    "N[0,0]=-1.0; N[-1,0]=-1.0; N[0,-1]=-1.0; N[-1,-1]=-1.0;\n",
    "\n",
    "s = np.sum(M)\n",
    "b = np.ones((n,1))*s\n",
    "b[0] -= N[0,0] + N[0,-1]\n",
    "b[-1] -= N[-1,0] + N[-1,-1]\n",
    "\n",
    "xexact = np.ones((n,1))\n",
    "x0 = np.zeros((n,1))\n",
    "\n",
    "# A = spl.circulant(M)-N\n",
    "# print('condition number=',npl.cond(A))\n"
   ]
  },
  {
   "cell_type": "code",
   "execution_count": 4,
   "id": "71727c38",
   "metadata": {},
   "outputs": [
    {
     "name": "stdout",
     "output_type": "stream",
     "text": [
      "iterations required for convergence: 4\n",
      "The error is: 1.0738412017708304e-09\n"
     ]
    }
   ],
   "source": [
    "# This is our method:\n",
    "\n",
    "x = SMW_iteration(M, N, b, x0, tol = 1.e-8, maxit = 100)\n",
    "\n",
    "print('The error is:', npl.norm(x-xexact)) "
   ]
  },
  {
   "cell_type": "markdown",
   "id": "f2efbe1b",
   "metadata": {},
   "source": [
    "In the following code we test the python GMRES implementation. I wouldn't try `n=1000000` but you are welcome to do if you like!"
   ]
  },
  {
   "cell_type": "code",
   "execution_count": 5,
   "id": "2ef46c8e",
   "metadata": {},
   "outputs": [
    {
     "name": "stdout",
     "output_type": "stream",
     "text": [
      "condition number= 5638.1811061351755\n",
      "CPU times: user 1.69 s, sys: 308 ms, total: 2 s\n",
      "Wall time: 513 ms\n",
      "1000\n",
      "The error is: 0.1316396494895858\n"
     ]
    }
   ],
   "source": [
    "# This is the GMRES:\n",
    "\n",
    "from scipy.sparse.linalg import gmres\n",
    "\n",
    "n = 100\n",
    "\n",
    "M = 1.0+rand(n)\n",
    "xexact = np.ones((n,1))\n",
    "N = sps.lil_matrix((n, n))\n",
    "N[0,0]=-1.0; N[-1,0]=-1.0; N[0,-1]=-1.0; N[-1,-1]=-1.0;\n",
    "\n",
    "s = np.sum(M)\n",
    "b = np.ones((n,1))*s\n",
    "b[0] -= N[0,0] + N[0,-1]\n",
    "b[-1] -= N[-1,0] + N[-1,-1]\n",
    "\n",
    "xexact = np.ones((n,1))\n",
    "x0 = np.zeros((n,1))\n",
    "\n",
    "A = spl.circulant(M)-N\n",
    "print('condition number=',npl.cond(A))\n",
    "\n",
    "\n",
    "%time (x, info) = gmres(A, b, x0, tol=1.e-8, maxiter=1000, atol=1.e-8)\n",
    "\n",
    "print(info)\n",
    "print('The error is:', npl.norm(x-xexact)) "
   ]
  }
 ],
 "metadata": {
  "kernelspec": {
   "display_name": "Python 3 (ipykernel)",
   "language": "python",
   "name": "python3"
  },
  "language_info": {
   "codemirror_mode": {
    "name": "ipython",
    "version": 3
   },
   "file_extension": ".py",
   "mimetype": "text/x-python",
   "name": "python",
   "nbconvert_exporter": "python",
   "pygments_lexer": "ipython3",
   "version": "3.10.9"
  }
 },
 "nbformat": 4,
 "nbformat_minor": 5
}
