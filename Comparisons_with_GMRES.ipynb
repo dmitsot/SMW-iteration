{
 "cells": [
  {
   "cell_type": "markdown",
   "id": "5b1ce030",
   "metadata": {},
   "source": [
    "# A comparison between the SMW-iteration and the GMRES method\n",
    "\n",
    "### 18 July 2023\n",
    "### Dimitrios Mitsotakis"
   ]
  },
  {
   "cell_type": "code",
   "execution_count": 1,
   "id": "0f71bd43",
   "metadata": {},
   "outputs": [],
   "source": [
    "import numpy as np\n",
    "import scipy as sp\n",
    "import scipy.sparse as sps\n",
    "import scipy.sparse.linalg as spsl\n",
    "import numpy.linalg as npl\n",
    "import scipy.linalg as spl\n",
    "from numpy.fft import fft, ifft"
   ]
  },
  {
   "cell_type": "markdown",
   "id": "0c515f66",
   "metadata": {},
   "source": [
    "A trivial implementation of the SMW-iteration:"
   ]
  },
  {
   "cell_type": "code",
   "execution_count": 2,
   "id": "5486d72c",
   "metadata": {},
   "outputs": [],
   "source": [
    "def SMW_iteration(M, N, b, x, tol = 1.e-5, maxit = 100):\n",
    "    # M, N : matrices such as A = M - N\n",
    "    # M : is the first column of the circulant matrix M\n",
    "    # N : is the sparse matrix N\n",
    "    # x : guess of the solution\n",
    "    \n",
    "    err = 1.0\n",
    "    iters = 0\n",
    "    \n",
    "    while (err > tol and iters < maxit):\n",
    "        iters += 1\n",
    "        c = N@x+b\n",
    "        xnew = spl.solve_circulant(M,c)\n",
    "        err = npl.norm(xnew-x)\n",
    "        x = np.copy(xnew)\n",
    "        \n",
    "    print('iterations required for convergence:', iters)\n",
    "    \n",
    "    return x"
   ]
  },
  {
   "cell_type": "markdown",
   "id": "a71952b4",
   "metadata": {},
   "source": [
    "# Speed of SMW-iteration in comparison with the size of the system"
   ]
  },
  {
   "cell_type": "markdown",
   "id": "8c53488b",
   "metadata": {},
   "source": [
    "First we compare the two numerical methods for the simplest case of linear finite element mass matrix. You can choose different dimension $n$ to observe that $n$ increases the SMW-iteration becomes faster than the GMRES method."
   ]
  },
  {
   "cell_type": "code",
   "execution_count": 3,
   "id": "5b1e6203",
   "metadata": {},
   "outputs": [
    {
     "name": "stdout",
     "output_type": "stream",
     "text": [
      "iterations required for convergence: 18\n",
      "CPU times: user 2.67 s, sys: 446 ms, total: 3.11 s\n",
      "Wall time: 3.11 s\n",
      "2.4039471648260297e-09\n"
     ]
    }
   ],
   "source": [
    "n=2000000\n",
    "M = np.zeros(n)\n",
    "M[0]=16\n",
    "M[1]=-5\n",
    "M[-1]=-5\n",
    "\n",
    "N = sps.lil_matrix((n,n))\n",
    "N[0,0]=8; N[n-1,n-1]=8; N[0,n-1]=-5; N[n-1,0]=-5;\n",
    "\n",
    "xexact = np.ones(n)\n",
    "x = np.zeros(n)\n",
    "b = 6.0*np.ones(n)\n",
    "b[0]=3.0\n",
    "b[-1]=3.0\n",
    "\n",
    "%time x = SMW_iteration(M, N, b, x, tol = 1.e-8, maxit = 10000)\n",
    "\n",
    "print(npl.norm(x-np.ones(n)))"
   ]
  },
  {
   "cell_type": "code",
   "execution_count": 4,
   "id": "18b48b09",
   "metadata": {},
   "outputs": [
    {
     "name": "stdout",
     "output_type": "stream",
     "text": [
      "CPU times: user 14.9 s, sys: 2.68 s, total: 17.6 s\n",
      "Wall time: 2.61 s\n",
      "0\n",
      "The error is: 5.686644391776742e-06\n"
     ]
    }
   ],
   "source": [
    "# This is the GMRES:\n",
    "\n",
    "from scipy.sparse.linalg import gmres\n",
    "\n",
    "# Redifine the matrix A for the GMRES routine\n",
    "A = sps.lil_matrix((n,n))\n",
    "for i in range(0,n-1):\n",
    "    A[i,i]=16.0\n",
    "    A[i,i+1]=-5.0\n",
    "    A[i+1,i]=-5.0\n",
    "\n",
    "A[0,0]=8.0\n",
    "A[n-1,n-1]=8.0\n",
    "\n",
    "b = 6.0*np.ones(n)\n",
    "b[0]=3.0\n",
    "b[-1]=3.0\n",
    "\n",
    "xexact = np.ones((n,1))\n",
    "x0 = np.zeros((n,1))\n",
    "\n",
    "%time (x, info) = gmres(A, b, x0, tol=1.e-8, maxiter=1000, atol=1.e-8)\n",
    "\n",
    "print(info)\n",
    "print('The error is:', npl.norm(x-np.ones(n))) "
   ]
  },
  {
   "cell_type": "markdown",
   "id": "6edcc139",
   "metadata": {},
   "source": [
    "# An extreme random matrix case"
   ]
  },
  {
   "cell_type": "markdown",
   "id": "e65c2de9",
   "metadata": {},
   "source": [
    "This is the setup of a dense system. Try the last two commands only if you take `n` reasonably small."
   ]
  },
  {
   "cell_type": "code",
   "execution_count": 5,
   "id": "db2a3fc8",
   "metadata": {},
   "outputs": [],
   "source": [
    "from numpy.random import rand\n",
    "\n",
    "n = 1000000\n",
    "\n",
    "M = 1.0+rand(n)\n",
    "xexact = np.ones((n,1))\n",
    "N = sps.lil_matrix((n, n))\n",
    "N[0,0]=-1.0; N[-1,0]=-1.0; N[0,-1]=-1.0; N[-1,-1]=-1.0;\n",
    "\n",
    "s = np.sum(M)\n",
    "b = np.ones((n,1))*s\n",
    "b[0] -= N[0,0] + N[0,-1]\n",
    "b[-1] -= N[-1,0] + N[-1,-1]\n",
    "\n",
    "xexact = np.ones((n,1))\n",
    "x0 = np.zeros((n,1))\n",
    "\n",
    "# A = spl.circulant(M)-N\n",
    "# print('condition number=',npl.cond(A))\n"
   ]
  },
  {
   "cell_type": "code",
   "execution_count": 6,
   "id": "71727c38",
   "metadata": {},
   "outputs": [
    {
     "name": "stdout",
     "output_type": "stream",
     "text": [
      "iterations required for convergence: 4\n",
      "The error is: 1.1584307678851722e-09\n"
     ]
    }
   ],
   "source": [
    "# This is our method:\n",
    "\n",
    "x = SMW_iteration(M, N, b, x0, tol = 1.e-8, maxit = 100)\n",
    "\n",
    "print('The error is:', npl.norm(x-xexact)) "
   ]
  },
  {
   "cell_type": "markdown",
   "id": "f2efbe1b",
   "metadata": {},
   "source": [
    "In the following code we test the python GMRES implementation. I wouldn't try `n=1000000` but you are welcome to do if you like!"
   ]
  },
  {
   "cell_type": "code",
   "execution_count": 7,
   "id": "2ef46c8e",
   "metadata": {},
   "outputs": [
    {
     "name": "stdout",
     "output_type": "stream",
     "text": [
      "condition number= 644.6908732947512\n",
      "CPU times: user 6.54 s, sys: 1.34 s, total: 7.87 s\n",
      "Wall time: 1.12 s\n",
      "1000\n",
      "The error is: 0.09859878482919404\n"
     ]
    }
   ],
   "source": [
    "# This is the GMRES:\n",
    "\n",
    "from scipy.sparse.linalg import gmres\n",
    "\n",
    "n = 100\n",
    "\n",
    "M = 1.0+rand(n)\n",
    "xexact = np.ones((n,1))\n",
    "N = sps.lil_matrix((n, n))\n",
    "N[0,0]=-1.0; N[-1,0]=-1.0; N[0,-1]=-1.0; N[-1,-1]=-1.0;\n",
    "\n",
    "s = np.sum(M)\n",
    "b = np.ones((n,1))*s\n",
    "b[0] -= N[0,0] + N[0,-1]\n",
    "b[-1] -= N[-1,0] + N[-1,-1]\n",
    "\n",
    "xexact = np.ones((n,1))\n",
    "x0 = np.zeros((n,1))\n",
    "\n",
    "A = spl.circulant(M)-N\n",
    "print('condition number=',npl.cond(A))\n",
    "\n",
    "\n",
    "%time (x, info) = gmres(A, b, x0, tol=1.e-8, maxiter=1000, atol=1.e-8)\n",
    "\n",
    "print(info)\n",
    "print('The error is:', npl.norm(x-xexact)) "
   ]
  },
  {
   "cell_type": "code",
   "execution_count": null,
   "id": "88ee33a0",
   "metadata": {},
   "outputs": [],
   "source": []
  }
 ],
 "metadata": {
  "kernelspec": {
   "display_name": "Python 3 (ipykernel)",
   "language": "python",
   "name": "python3"
  },
  "language_info": {
   "codemirror_mode": {
    "name": "ipython",
    "version": 3
   },
   "file_extension": ".py",
   "mimetype": "text/x-python",
   "name": "python",
   "nbconvert_exporter": "python",
   "pygments_lexer": "ipython3",
   "version": "3.10.9"
  }
 },
 "nbformat": 4,
 "nbformat_minor": 5
}
